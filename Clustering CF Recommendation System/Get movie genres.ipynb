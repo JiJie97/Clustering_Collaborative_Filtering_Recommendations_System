{
 "cells": [
  {
   "cell_type": "markdown",
   "metadata": {},
   "source": [
    "# Import packages"
   ]
  },
  {
   "cell_type": "code",
   "execution_count": 1,
   "metadata": {},
   "outputs": [],
   "source": [
    "import pandas as pd\n",
    "import numpy as np\n",
    "from tqdm import tqdm\n",
    "import Levenshtein\n",
    "import time"
   ]
  },
  {
   "cell_type": "markdown",
   "metadata": {},
   "source": [
    "# Read in data"
   ]
  },
  {
   "cell_type": "markdown",
   "metadata": {},
   "source": [
    "## Read in Mubi movie data"
   ]
  },
  {
   "cell_type": "code",
   "execution_count": 2,
   "metadata": {},
   "outputs": [],
   "source": [
    "mubi_movie = pd.read_csv('mubi_movie_data.csv')"
   ]
  },
  {
   "cell_type": "code",
   "execution_count": 3,
   "metadata": {},
   "outputs": [
    {
     "data": {
      "text/html": [
       "<div>\n",
       "<style scoped>\n",
       "    .dataframe tbody tr th:only-of-type {\n",
       "        vertical-align: middle;\n",
       "    }\n",
       "\n",
       "    .dataframe tbody tr th {\n",
       "        vertical-align: top;\n",
       "    }\n",
       "\n",
       "    .dataframe thead th {\n",
       "        text-align: right;\n",
       "    }\n",
       "</style>\n",
       "<table border=\"1\" class=\"dataframe\">\n",
       "  <thead>\n",
       "    <tr style=\"text-align: right;\">\n",
       "      <th></th>\n",
       "      <th>movie_id</th>\n",
       "      <th>movie_title</th>\n",
       "      <th>movie_release_year</th>\n",
       "      <th>movie_url</th>\n",
       "      <th>movie_title_language</th>\n",
       "      <th>movie_popularity</th>\n",
       "      <th>movie_image_url</th>\n",
       "      <th>director_id</th>\n",
       "      <th>director_name</th>\n",
       "      <th>director_url</th>\n",
       "    </tr>\n",
       "  </thead>\n",
       "  <tbody>\n",
       "    <tr>\n",
       "      <th>0</th>\n",
       "      <td>1</td>\n",
       "      <td>La Antena</td>\n",
       "      <td>2007.0</td>\n",
       "      <td>http://mubi.com/films/la-antena</td>\n",
       "      <td>en</td>\n",
       "      <td>105</td>\n",
       "      <td>https://images.mubicdn.net/images/film/1/cache...</td>\n",
       "      <td>131</td>\n",
       "      <td>Esteban Sapir</td>\n",
       "      <td>http://mubi.com/cast/esteban-sapir</td>\n",
       "    </tr>\n",
       "    <tr>\n",
       "      <th>1</th>\n",
       "      <td>2</td>\n",
       "      <td>Elementary Particles</td>\n",
       "      <td>2006.0</td>\n",
       "      <td>http://mubi.com/films/elementary-particles</td>\n",
       "      <td>en</td>\n",
       "      <td>23</td>\n",
       "      <td>https://images.mubicdn.net/images/film/2/cache...</td>\n",
       "      <td>73</td>\n",
       "      <td>Oskar Roehler</td>\n",
       "      <td>http://mubi.com/cast/oskar-roehler</td>\n",
       "    </tr>\n",
       "    <tr>\n",
       "      <th>2</th>\n",
       "      <td>3</td>\n",
       "      <td>It's Winter</td>\n",
       "      <td>2006.0</td>\n",
       "      <td>http://mubi.com/films/its-winter</td>\n",
       "      <td>en</td>\n",
       "      <td>21</td>\n",
       "      <td>https://images.mubicdn.net/images/film/3/cache...</td>\n",
       "      <td>82</td>\n",
       "      <td>Rafi Pitts</td>\n",
       "      <td>http://mubi.com/cast/rafi-pitts</td>\n",
       "    </tr>\n",
       "    <tr>\n",
       "      <th>3</th>\n",
       "      <td>4</td>\n",
       "      <td>Kirikou and the Wild Beasts</td>\n",
       "      <td>2005.0</td>\n",
       "      <td>http://mubi.com/films/kirikou-and-the-wild-beasts</td>\n",
       "      <td>en</td>\n",
       "      <td>46</td>\n",
       "      <td>https://images.mubicdn.net/images/film/4/cache...</td>\n",
       "      <td>89, 90</td>\n",
       "      <td>Michel Ocelot, Bénédicte Galup</td>\n",
       "      <td>http://mubi.com/cast/michel-ocelot, http://mub...</td>\n",
       "    </tr>\n",
       "    <tr>\n",
       "      <th>4</th>\n",
       "      <td>5</td>\n",
       "      <td>Padre Nuestro</td>\n",
       "      <td>2007.0</td>\n",
       "      <td>http://mubi.com/films/padre-nuestro</td>\n",
       "      <td>en</td>\n",
       "      <td>7</td>\n",
       "      <td>https://images.mubicdn.net/images/film/5/cache...</td>\n",
       "      <td>92</td>\n",
       "      <td>Christopher Zalla</td>\n",
       "      <td>http://mubi.com/cast/christopher-zalla</td>\n",
       "    </tr>\n",
       "  </tbody>\n",
       "</table>\n",
       "</div>"
      ],
      "text/plain": [
       "   movie_id                  movie_title  movie_release_year  \\\n",
       "0         1                    La Antena              2007.0   \n",
       "1         2         Elementary Particles              2006.0   \n",
       "2         3                  It's Winter              2006.0   \n",
       "3         4  Kirikou and the Wild Beasts              2005.0   \n",
       "4         5                Padre Nuestro              2007.0   \n",
       "\n",
       "                                           movie_url movie_title_language  \\\n",
       "0                    http://mubi.com/films/la-antena                   en   \n",
       "1         http://mubi.com/films/elementary-particles                   en   \n",
       "2                   http://mubi.com/films/its-winter                   en   \n",
       "3  http://mubi.com/films/kirikou-and-the-wild-beasts                   en   \n",
       "4                http://mubi.com/films/padre-nuestro                   en   \n",
       "\n",
       "   movie_popularity                                    movie_image_url  \\\n",
       "0               105  https://images.mubicdn.net/images/film/1/cache...   \n",
       "1                23  https://images.mubicdn.net/images/film/2/cache...   \n",
       "2                21  https://images.mubicdn.net/images/film/3/cache...   \n",
       "3                46  https://images.mubicdn.net/images/film/4/cache...   \n",
       "4                 7  https://images.mubicdn.net/images/film/5/cache...   \n",
       "\n",
       "  director_id                   director_name  \\\n",
       "0         131                   Esteban Sapir   \n",
       "1          73                   Oskar Roehler   \n",
       "2          82                      Rafi Pitts   \n",
       "3      89, 90  Michel Ocelot, Bénédicte Galup   \n",
       "4          92               Christopher Zalla   \n",
       "\n",
       "                                        director_url  \n",
       "0                 http://mubi.com/cast/esteban-sapir  \n",
       "1                 http://mubi.com/cast/oskar-roehler  \n",
       "2                    http://mubi.com/cast/rafi-pitts  \n",
       "3  http://mubi.com/cast/michel-ocelot, http://mub...  \n",
       "4             http://mubi.com/cast/christopher-zalla  "
      ]
     },
     "execution_count": 3,
     "metadata": {},
     "output_type": "execute_result"
    }
   ],
   "source": [
    "mubi_movie.head()"
   ]
  },
  {
   "cell_type": "markdown",
   "metadata": {},
   "source": [
    "## Read in Imdb movie data"
   ]
  },
  {
   "cell_type": "code",
   "execution_count": 4,
   "metadata": {},
   "outputs": [
    {
     "name": "stderr",
     "output_type": "stream",
     "text": [
      "/Users/j/anaconda3/envs/py36/lib/python3.6/site-packages/IPython/core/interactiveshell.py:3072: DtypeWarning: Columns (5) have mixed types.Specify dtype option on import or set low_memory=False.\n",
      "  interactivity=interactivity, compiler=compiler, result=result)\n"
     ]
    }
   ],
   "source": [
    "imdb_movie = pd.read_csv('title_basic.tsv',sep='\\t')"
   ]
  },
  {
   "cell_type": "code",
   "execution_count": 5,
   "metadata": {},
   "outputs": [
    {
     "data": {
      "text/html": [
       "<div>\n",
       "<style scoped>\n",
       "    .dataframe tbody tr th:only-of-type {\n",
       "        vertical-align: middle;\n",
       "    }\n",
       "\n",
       "    .dataframe tbody tr th {\n",
       "        vertical-align: top;\n",
       "    }\n",
       "\n",
       "    .dataframe thead th {\n",
       "        text-align: right;\n",
       "    }\n",
       "</style>\n",
       "<table border=\"1\" class=\"dataframe\">\n",
       "  <thead>\n",
       "    <tr style=\"text-align: right;\">\n",
       "      <th></th>\n",
       "      <th>tconst</th>\n",
       "      <th>titleType</th>\n",
       "      <th>primaryTitle</th>\n",
       "      <th>originalTitle</th>\n",
       "      <th>isAdult</th>\n",
       "      <th>startYear</th>\n",
       "      <th>endYear</th>\n",
       "      <th>runtimeMinutes</th>\n",
       "      <th>genres</th>\n",
       "    </tr>\n",
       "  </thead>\n",
       "  <tbody>\n",
       "    <tr>\n",
       "      <th>0</th>\n",
       "      <td>tt0000001</td>\n",
       "      <td>short</td>\n",
       "      <td>Carmencita</td>\n",
       "      <td>Carmencita</td>\n",
       "      <td>0</td>\n",
       "      <td>1894</td>\n",
       "      <td>\\N</td>\n",
       "      <td>1</td>\n",
       "      <td>Documentary,Short</td>\n",
       "    </tr>\n",
       "    <tr>\n",
       "      <th>1</th>\n",
       "      <td>tt0000002</td>\n",
       "      <td>short</td>\n",
       "      <td>Le clown et ses chiens</td>\n",
       "      <td>Le clown et ses chiens</td>\n",
       "      <td>0</td>\n",
       "      <td>1892</td>\n",
       "      <td>\\N</td>\n",
       "      <td>5</td>\n",
       "      <td>Animation,Short</td>\n",
       "    </tr>\n",
       "    <tr>\n",
       "      <th>2</th>\n",
       "      <td>tt0000003</td>\n",
       "      <td>short</td>\n",
       "      <td>Pauvre Pierrot</td>\n",
       "      <td>Pauvre Pierrot</td>\n",
       "      <td>0</td>\n",
       "      <td>1892</td>\n",
       "      <td>\\N</td>\n",
       "      <td>4</td>\n",
       "      <td>Animation,Comedy,Romance</td>\n",
       "    </tr>\n",
       "    <tr>\n",
       "      <th>3</th>\n",
       "      <td>tt0000004</td>\n",
       "      <td>short</td>\n",
       "      <td>Un bon bock</td>\n",
       "      <td>Un bon bock</td>\n",
       "      <td>0</td>\n",
       "      <td>1892</td>\n",
       "      <td>\\N</td>\n",
       "      <td>12</td>\n",
       "      <td>Animation,Short</td>\n",
       "    </tr>\n",
       "    <tr>\n",
       "      <th>4</th>\n",
       "      <td>tt0000005</td>\n",
       "      <td>short</td>\n",
       "      <td>Blacksmith Scene</td>\n",
       "      <td>Blacksmith Scene</td>\n",
       "      <td>0</td>\n",
       "      <td>1893</td>\n",
       "      <td>\\N</td>\n",
       "      <td>1</td>\n",
       "      <td>Comedy,Short</td>\n",
       "    </tr>\n",
       "  </tbody>\n",
       "</table>\n",
       "</div>"
      ],
      "text/plain": [
       "      tconst titleType            primaryTitle           originalTitle  \\\n",
       "0  tt0000001     short              Carmencita              Carmencita   \n",
       "1  tt0000002     short  Le clown et ses chiens  Le clown et ses chiens   \n",
       "2  tt0000003     short          Pauvre Pierrot          Pauvre Pierrot   \n",
       "3  tt0000004     short             Un bon bock             Un bon bock   \n",
       "4  tt0000005     short        Blacksmith Scene        Blacksmith Scene   \n",
       "\n",
       "   isAdult startYear endYear runtimeMinutes                    genres  \n",
       "0        0      1894      \\N              1         Documentary,Short  \n",
       "1        0      1892      \\N              5           Animation,Short  \n",
       "2        0      1892      \\N              4  Animation,Comedy,Romance  \n",
       "3        0      1892      \\N             12           Animation,Short  \n",
       "4        0      1893      \\N              1              Comedy,Short  "
      ]
     },
     "execution_count": 5,
     "metadata": {},
     "output_type": "execute_result"
    }
   ],
   "source": [
    "imdb_movie.head()"
   ]
  },
  {
   "cell_type": "markdown",
   "metadata": {},
   "source": [
    "## Separate Imdb movie data"
   ]
  },
  {
   "cell_type": "markdown",
   "metadata": {},
   "source": [
    "### Movies without a start year"
   ]
  },
  {
   "cell_type": "code",
   "execution_count": 6,
   "metadata": {},
   "outputs": [],
   "source": [
    "imdb_no_year = imdb_movie[imdb_movie.startYear == '\\\\N']"
   ]
  },
  {
   "cell_type": "code",
   "execution_count": 7,
   "metadata": {},
   "outputs": [
    {
     "data": {
      "text/html": [
       "<div>\n",
       "<style scoped>\n",
       "    .dataframe tbody tr th:only-of-type {\n",
       "        vertical-align: middle;\n",
       "    }\n",
       "\n",
       "    .dataframe tbody tr th {\n",
       "        vertical-align: top;\n",
       "    }\n",
       "\n",
       "    .dataframe thead th {\n",
       "        text-align: right;\n",
       "    }\n",
       "</style>\n",
       "<table border=\"1\" class=\"dataframe\">\n",
       "  <thead>\n",
       "    <tr style=\"text-align: right;\">\n",
       "      <th></th>\n",
       "      <th>tconst</th>\n",
       "      <th>titleType</th>\n",
       "      <th>primaryTitle</th>\n",
       "      <th>originalTitle</th>\n",
       "      <th>isAdult</th>\n",
       "      <th>startYear</th>\n",
       "      <th>endYear</th>\n",
       "      <th>runtimeMinutes</th>\n",
       "      <th>genres</th>\n",
       "    </tr>\n",
       "  </thead>\n",
       "  <tbody>\n",
       "    <tr>\n",
       "      <th>65778</th>\n",
       "      <td>tt0067098</td>\n",
       "      <td>tvEpisode</td>\n",
       "      <td>Willi Forst</td>\n",
       "      <td>Willi Forst</td>\n",
       "      <td>0</td>\n",
       "      <td>\\N</td>\n",
       "      <td>\\N</td>\n",
       "      <td>55</td>\n",
       "      <td>\\N</td>\n",
       "    </tr>\n",
       "    <tr>\n",
       "      <th>69722</th>\n",
       "      <td>tt0071158</td>\n",
       "      <td>tvEpisode</td>\n",
       "      <td>The Arcata Promise</td>\n",
       "      <td>The Arcata Promise</td>\n",
       "      <td>0</td>\n",
       "      <td>\\N</td>\n",
       "      <td>\\N</td>\n",
       "      <td>\\N</td>\n",
       "      <td>\\N</td>\n",
       "    </tr>\n",
       "    <tr>\n",
       "      <th>70395</th>\n",
       "      <td>tt0071844</td>\n",
       "      <td>movie</td>\n",
       "      <td>Till Marriage Do Us Part</td>\n",
       "      <td>Mio Dio, come sono caduta in basso!</td>\n",
       "      <td>0</td>\n",
       "      <td>\\N</td>\n",
       "      <td>\\N</td>\n",
       "      <td>110</td>\n",
       "      <td>Comedy</td>\n",
       "    </tr>\n",
       "    <tr>\n",
       "      <th>83832</th>\n",
       "      <td>tt0085677</td>\n",
       "      <td>tvEpisode</td>\n",
       "      <td>High Country</td>\n",
       "      <td>High Country</td>\n",
       "      <td>0</td>\n",
       "      <td>\\N</td>\n",
       "      <td>\\N</td>\n",
       "      <td>\\N</td>\n",
       "      <td>Sport</td>\n",
       "    </tr>\n",
       "    <tr>\n",
       "      <th>84395</th>\n",
       "      <td>tt0086249</td>\n",
       "      <td>tvEpisode</td>\n",
       "      <td>Pilot</td>\n",
       "      <td>Pilot</td>\n",
       "      <td>0</td>\n",
       "      <td>\\N</td>\n",
       "      <td>\\N</td>\n",
       "      <td>\\N</td>\n",
       "      <td>Adventure,Comedy,Romance</td>\n",
       "    </tr>\n",
       "  </tbody>\n",
       "</table>\n",
       "</div>"
      ],
      "text/plain": [
       "          tconst  titleType              primaryTitle  \\\n",
       "65778  tt0067098  tvEpisode               Willi Forst   \n",
       "69722  tt0071158  tvEpisode        The Arcata Promise   \n",
       "70395  tt0071844      movie  Till Marriage Do Us Part   \n",
       "83832  tt0085677  tvEpisode              High Country   \n",
       "84395  tt0086249  tvEpisode                     Pilot   \n",
       "\n",
       "                             originalTitle  isAdult startYear endYear  \\\n",
       "65778                          Willi Forst        0        \\N      \\N   \n",
       "69722                   The Arcata Promise        0        \\N      \\N   \n",
       "70395  Mio Dio, come sono caduta in basso!        0        \\N      \\N   \n",
       "83832                         High Country        0        \\N      \\N   \n",
       "84395                                Pilot        0        \\N      \\N   \n",
       "\n",
       "      runtimeMinutes                    genres  \n",
       "65778             55                        \\N  \n",
       "69722             \\N                        \\N  \n",
       "70395            110                    Comedy  \n",
       "83832             \\N                     Sport  \n",
       "84395             \\N  Adventure,Comedy,Romance  "
      ]
     },
     "execution_count": 7,
     "metadata": {},
     "output_type": "execute_result"
    }
   ],
   "source": [
    "imdb_no_year.head()"
   ]
  },
  {
   "cell_type": "markdown",
   "metadata": {},
   "source": [
    "### Movies with a start year"
   ]
  },
  {
   "cell_type": "code",
   "execution_count": 8,
   "metadata": {},
   "outputs": [],
   "source": [
    "tmp = imdb_movie[imdb_movie.startYear != '\\\\N']\n",
    "imdb_has_year = tmp.copy()"
   ]
  },
  {
   "cell_type": "code",
   "execution_count": 9,
   "metadata": {},
   "outputs": [],
   "source": [
    "# Change startYear dtype\n",
    "imdb_has_year.startYear = pd.to_numeric(tmp.startYear)"
   ]
  },
  {
   "cell_type": "code",
   "execution_count": 10,
   "metadata": {},
   "outputs": [
    {
     "data": {
      "text/html": [
       "<div>\n",
       "<style scoped>\n",
       "    .dataframe tbody tr th:only-of-type {\n",
       "        vertical-align: middle;\n",
       "    }\n",
       "\n",
       "    .dataframe tbody tr th {\n",
       "        vertical-align: top;\n",
       "    }\n",
       "\n",
       "    .dataframe thead th {\n",
       "        text-align: right;\n",
       "    }\n",
       "</style>\n",
       "<table border=\"1\" class=\"dataframe\">\n",
       "  <thead>\n",
       "    <tr style=\"text-align: right;\">\n",
       "      <th></th>\n",
       "      <th>tconst</th>\n",
       "      <th>titleType</th>\n",
       "      <th>primaryTitle</th>\n",
       "      <th>originalTitle</th>\n",
       "      <th>isAdult</th>\n",
       "      <th>startYear</th>\n",
       "      <th>endYear</th>\n",
       "      <th>runtimeMinutes</th>\n",
       "      <th>genres</th>\n",
       "    </tr>\n",
       "  </thead>\n",
       "  <tbody>\n",
       "    <tr>\n",
       "      <th>0</th>\n",
       "      <td>tt0000001</td>\n",
       "      <td>short</td>\n",
       "      <td>Carmencita</td>\n",
       "      <td>Carmencita</td>\n",
       "      <td>0</td>\n",
       "      <td>1894</td>\n",
       "      <td>\\N</td>\n",
       "      <td>1</td>\n",
       "      <td>Documentary,Short</td>\n",
       "    </tr>\n",
       "    <tr>\n",
       "      <th>1</th>\n",
       "      <td>tt0000002</td>\n",
       "      <td>short</td>\n",
       "      <td>Le clown et ses chiens</td>\n",
       "      <td>Le clown et ses chiens</td>\n",
       "      <td>0</td>\n",
       "      <td>1892</td>\n",
       "      <td>\\N</td>\n",
       "      <td>5</td>\n",
       "      <td>Animation,Short</td>\n",
       "    </tr>\n",
       "    <tr>\n",
       "      <th>2</th>\n",
       "      <td>tt0000003</td>\n",
       "      <td>short</td>\n",
       "      <td>Pauvre Pierrot</td>\n",
       "      <td>Pauvre Pierrot</td>\n",
       "      <td>0</td>\n",
       "      <td>1892</td>\n",
       "      <td>\\N</td>\n",
       "      <td>4</td>\n",
       "      <td>Animation,Comedy,Romance</td>\n",
       "    </tr>\n",
       "    <tr>\n",
       "      <th>3</th>\n",
       "      <td>tt0000004</td>\n",
       "      <td>short</td>\n",
       "      <td>Un bon bock</td>\n",
       "      <td>Un bon bock</td>\n",
       "      <td>0</td>\n",
       "      <td>1892</td>\n",
       "      <td>\\N</td>\n",
       "      <td>12</td>\n",
       "      <td>Animation,Short</td>\n",
       "    </tr>\n",
       "    <tr>\n",
       "      <th>4</th>\n",
       "      <td>tt0000005</td>\n",
       "      <td>short</td>\n",
       "      <td>Blacksmith Scene</td>\n",
       "      <td>Blacksmith Scene</td>\n",
       "      <td>0</td>\n",
       "      <td>1893</td>\n",
       "      <td>\\N</td>\n",
       "      <td>1</td>\n",
       "      <td>Comedy,Short</td>\n",
       "    </tr>\n",
       "  </tbody>\n",
       "</table>\n",
       "</div>"
      ],
      "text/plain": [
       "      tconst titleType            primaryTitle           originalTitle  \\\n",
       "0  tt0000001     short              Carmencita              Carmencita   \n",
       "1  tt0000002     short  Le clown et ses chiens  Le clown et ses chiens   \n",
       "2  tt0000003     short          Pauvre Pierrot          Pauvre Pierrot   \n",
       "3  tt0000004     short             Un bon bock             Un bon bock   \n",
       "4  tt0000005     short        Blacksmith Scene        Blacksmith Scene   \n",
       "\n",
       "   isAdult  startYear endYear runtimeMinutes                    genres  \n",
       "0        0       1894      \\N              1         Documentary,Short  \n",
       "1        0       1892      \\N              5           Animation,Short  \n",
       "2        0       1892      \\N              4  Animation,Comedy,Romance  \n",
       "3        0       1892      \\N             12           Animation,Short  \n",
       "4        0       1893      \\N              1              Comedy,Short  "
      ]
     },
     "execution_count": 10,
     "metadata": {},
     "output_type": "execute_result"
    }
   ],
   "source": [
    "imdb_has_year.head()"
   ]
  },
  {
   "cell_type": "markdown",
   "metadata": {},
   "source": [
    "# Create unique movie list of Imdb"
   ]
  },
  {
   "cell_type": "markdown",
   "metadata": {},
   "source": [
    "## Create whole movie list"
   ]
  },
  {
   "cell_type": "code",
   "execution_count": 11,
   "metadata": {},
   "outputs": [],
   "source": [
    "whole_movie_set = set(imdb_movie.primaryTitle.unique())"
   ]
  },
  {
   "cell_type": "code",
   "execution_count": 12,
   "metadata": {},
   "outputs": [],
   "source": [
    "# remove nan\n",
    "whole_movie_set.remove(np.nan)"
   ]
  },
  {
   "cell_type": "markdown",
   "metadata": {},
   "source": [
    "## Create movie list and movie dataframe by year"
   ]
  },
  {
   "cell_type": "code",
   "execution_count": 13,
   "metadata": {},
   "outputs": [],
   "source": [
    "years = imdb_has_year.startYear.unique()\n",
    "years.sort()"
   ]
  },
  {
   "cell_type": "code",
   "execution_count": 14,
   "metadata": {},
   "outputs": [],
   "source": [
    "# create movie df with a year\n",
    "movie_df_dict = {}\n",
    "for i in years:\n",
    "    movie_df_dict[i] = imdb_has_year[imdb_has_year.startYear == i]"
   ]
  },
  {
   "cell_type": "code",
   "execution_count": 15,
   "metadata": {},
   "outputs": [],
   "source": [
    "# create movie list for each year\n",
    "movie_list_dict = {}\n",
    "for i in years:\n",
    "    movie_list_dict[i] = set(movie_df_dict[i].primaryTitle.unique())"
   ]
  },
  {
   "cell_type": "markdown",
   "metadata": {},
   "source": [
    "## Create movie list with no start year"
   ]
  },
  {
   "cell_type": "code",
   "execution_count": 16,
   "metadata": {},
   "outputs": [],
   "source": [
    "movie_list_no_year = set(imdb_no_year.primaryTitle.unique())"
   ]
  },
  {
   "cell_type": "markdown",
   "metadata": {},
   "source": [
    "# Create final movie genre dataframe"
   ]
  },
  {
   "cell_type": "code",
   "execution_count": 43,
   "metadata": {},
   "outputs": [],
   "source": [
    "mubi_movie_list = mubi_movie.movie_title\n",
    "mubi_movie_list_year = mubi_movie.movie_release_year\n",
    "mubi_movie_list_id = mubi_movie.movie_id"
   ]
  },
  {
   "cell_type": "code",
   "execution_count": 44,
   "metadata": {},
   "outputs": [],
   "source": [
    "movie_df = pd.DataFrame(np.nan,index = range(len(mubi_movie_list)), \n",
    "                        columns = ['mubi_id','mubi_release_year','mubi_title','imdb_title','title_similarity','genres'])"
   ]
  },
  {
   "cell_type": "code",
   "execution_count": 45,
   "metadata": {},
   "outputs": [],
   "source": [
    "movie_df.mubi_id = mubi_movie_list_id\n",
    "movie_df.mubi_release_year = mubi_movie_list_year.fillna(0)\n",
    "movie_df.mubi_title = mubi_movie_list"
   ]
  },
  {
   "cell_type": "code",
   "execution_count": 46,
   "metadata": {},
   "outputs": [
    {
     "data": {
      "text/html": [
       "<div>\n",
       "<style scoped>\n",
       "    .dataframe tbody tr th:only-of-type {\n",
       "        vertical-align: middle;\n",
       "    }\n",
       "\n",
       "    .dataframe tbody tr th {\n",
       "        vertical-align: top;\n",
       "    }\n",
       "\n",
       "    .dataframe thead th {\n",
       "        text-align: right;\n",
       "    }\n",
       "</style>\n",
       "<table border=\"1\" class=\"dataframe\">\n",
       "  <thead>\n",
       "    <tr style=\"text-align: right;\">\n",
       "      <th></th>\n",
       "      <th>mubi_id</th>\n",
       "      <th>mubi_release_year</th>\n",
       "      <th>mubi_title</th>\n",
       "      <th>imdb_title</th>\n",
       "      <th>title_similarity</th>\n",
       "      <th>genres</th>\n",
       "    </tr>\n",
       "  </thead>\n",
       "  <tbody>\n",
       "    <tr>\n",
       "      <th>226570</th>\n",
       "      <td>263706</td>\n",
       "      <td>2020.0</td>\n",
       "      <td>Kill Chain: The Cyber War on America's Elections</td>\n",
       "      <td>NaN</td>\n",
       "      <td>NaN</td>\n",
       "      <td>NaN</td>\n",
       "    </tr>\n",
       "    <tr>\n",
       "      <th>226571</th>\n",
       "      <td>263707</td>\n",
       "      <td>2020.0</td>\n",
       "      <td>We're Here</td>\n",
       "      <td>NaN</td>\n",
       "      <td>NaN</td>\n",
       "      <td>NaN</td>\n",
       "    </tr>\n",
       "    <tr>\n",
       "      <th>226572</th>\n",
       "      <td>263708</td>\n",
       "      <td>1962.0</td>\n",
       "      <td>The Weasel</td>\n",
       "      <td>NaN</td>\n",
       "      <td>NaN</td>\n",
       "      <td>NaN</td>\n",
       "    </tr>\n",
       "    <tr>\n",
       "      <th>226573</th>\n",
       "      <td>263709</td>\n",
       "      <td>1931.0</td>\n",
       "      <td>Scenes from the Family Life</td>\n",
       "      <td>NaN</td>\n",
       "      <td>NaN</td>\n",
       "      <td>NaN</td>\n",
       "    </tr>\n",
       "    <tr>\n",
       "      <th>226574</th>\n",
       "      <td>263710</td>\n",
       "      <td>2001.0</td>\n",
       "      <td>Karine</td>\n",
       "      <td>NaN</td>\n",
       "      <td>NaN</td>\n",
       "      <td>NaN</td>\n",
       "    </tr>\n",
       "  </tbody>\n",
       "</table>\n",
       "</div>"
      ],
      "text/plain": [
       "        mubi_id  mubi_release_year  \\\n",
       "226570   263706             2020.0   \n",
       "226571   263707             2020.0   \n",
       "226572   263708             1962.0   \n",
       "226573   263709             1931.0   \n",
       "226574   263710             2001.0   \n",
       "\n",
       "                                              mubi_title  imdb_title  \\\n",
       "226570  Kill Chain: The Cyber War on America's Elections         NaN   \n",
       "226571                                        We're Here         NaN   \n",
       "226572                                        The Weasel         NaN   \n",
       "226573                       Scenes from the Family Life         NaN   \n",
       "226574                                            Karine         NaN   \n",
       "\n",
       "        title_similarity  genres  \n",
       "226570               NaN     NaN  \n",
       "226571               NaN     NaN  \n",
       "226572               NaN     NaN  \n",
       "226573               NaN     NaN  \n",
       "226574               NaN     NaN  "
      ]
     },
     "execution_count": 46,
     "metadata": {},
     "output_type": "execute_result"
    }
   ],
   "source": [
    "movie_df.tail()"
   ]
  },
  {
   "cell_type": "markdown",
   "metadata": {},
   "source": [
    "## Find mubi movies that also exist in Imdb movie dataframe"
   ]
  },
  {
   "cell_type": "markdown",
   "metadata": {},
   "source": [
    "### Perfect match"
   ]
  },
  {
   "cell_type": "code",
   "execution_count": 47,
   "metadata": {},
   "outputs": [
    {
     "data": {
      "text/html": [
       "<div>\n",
       "<style scoped>\n",
       "    .dataframe tbody tr th:only-of-type {\n",
       "        vertical-align: middle;\n",
       "    }\n",
       "\n",
       "    .dataframe tbody tr th {\n",
       "        vertical-align: top;\n",
       "    }\n",
       "\n",
       "    .dataframe thead th {\n",
       "        text-align: right;\n",
       "    }\n",
       "</style>\n",
       "<table border=\"1\" class=\"dataframe\">\n",
       "  <thead>\n",
       "    <tr style=\"text-align: right;\">\n",
       "      <th></th>\n",
       "      <th>mubi_id</th>\n",
       "      <th>mubi_release_year</th>\n",
       "      <th>mubi_title</th>\n",
       "      <th>imdb_title</th>\n",
       "      <th>title_similarity</th>\n",
       "      <th>genres</th>\n",
       "    </tr>\n",
       "  </thead>\n",
       "  <tbody>\n",
       "    <tr>\n",
       "      <th>0</th>\n",
       "      <td>1</td>\n",
       "      <td>2007.0</td>\n",
       "      <td>La Antena</td>\n",
       "      <td>NaN</td>\n",
       "      <td>NaN</td>\n",
       "      <td>NaN</td>\n",
       "    </tr>\n",
       "    <tr>\n",
       "      <th>1</th>\n",
       "      <td>2</td>\n",
       "      <td>2006.0</td>\n",
       "      <td>Elementary Particles</td>\n",
       "      <td>NaN</td>\n",
       "      <td>NaN</td>\n",
       "      <td>NaN</td>\n",
       "    </tr>\n",
       "    <tr>\n",
       "      <th>2</th>\n",
       "      <td>3</td>\n",
       "      <td>2006.0</td>\n",
       "      <td>It's Winter</td>\n",
       "      <td>NaN</td>\n",
       "      <td>NaN</td>\n",
       "      <td>NaN</td>\n",
       "    </tr>\n",
       "    <tr>\n",
       "      <th>3</th>\n",
       "      <td>4</td>\n",
       "      <td>2005.0</td>\n",
       "      <td>Kirikou and the Wild Beasts</td>\n",
       "      <td>NaN</td>\n",
       "      <td>NaN</td>\n",
       "      <td>NaN</td>\n",
       "    </tr>\n",
       "    <tr>\n",
       "      <th>4</th>\n",
       "      <td>5</td>\n",
       "      <td>2007.0</td>\n",
       "      <td>Padre Nuestro</td>\n",
       "      <td>NaN</td>\n",
       "      <td>NaN</td>\n",
       "      <td>NaN</td>\n",
       "    </tr>\n",
       "  </tbody>\n",
       "</table>\n",
       "</div>"
      ],
      "text/plain": [
       "   mubi_id  mubi_release_year                   mubi_title  imdb_title  \\\n",
       "0        1             2007.0                    La Antena         NaN   \n",
       "1        2             2006.0         Elementary Particles         NaN   \n",
       "2        3             2006.0                  It's Winter         NaN   \n",
       "3        4             2005.0  Kirikou and the Wild Beasts         NaN   \n",
       "4        5             2007.0                Padre Nuestro         NaN   \n",
       "\n",
       "   title_similarity  genres  \n",
       "0               NaN     NaN  \n",
       "1               NaN     NaN  \n",
       "2               NaN     NaN  \n",
       "3               NaN     NaN  \n",
       "4               NaN     NaN  "
      ]
     },
     "execution_count": 47,
     "metadata": {},
     "output_type": "execute_result"
    }
   ],
   "source": [
    "movie_df.head()"
   ]
  },
  {
   "cell_type": "code",
   "execution_count": 60,
   "metadata": {},
   "outputs": [
    {
     "name": "stderr",
     "output_type": "stream",
     "text": [
      "100%|██████████| 226575/226575 [1:00:38<00:00, 62.28it/s]\n"
     ]
    }
   ],
   "source": [
    "i = 0\n",
    "for idx in tqdm(movie_df.index):\n",
    "    mv = movie_df.loc[idx,'mubi_title']\n",
    "    tmp_year = movie_df.loc[idx,'mubi_release_year']\n",
    "    year_list = [tmp_year,tmp_year-1,tmp_year+1] # Give release year some tolerrance\n",
    "    for y in year_list:\n",
    "        if y in movie_list_dict:\n",
    "            if mv in movie_list_dict[y]:\n",
    "                movie_df.loc[i,'imdb_title'] = mv\n",
    "                movie_df.loc[i,'title_similarity'] = 1\n",
    "                tmp_df = movie_df_dict[y]\n",
    "                movie_df.loc[i,'genres'] = tmp_df[tmp_df.primaryTitle == mv].iloc[0,-1]\n",
    "                break\n",
    "    if i >=500000:\n",
    "        break\n",
    "    i+=1\n",
    "#     if mv in whole_movie_set:\n",
    "#         movie_df.loc[i,'imdb_title'] = mv\n",
    "#         movie_df.loc[i,'title_similarity'] = 1\n",
    "#         movie_df.loc[i,'genres'] = imdb_movie[imdb_movie.primaryTitle == mv].head(1).genres"
   ]
  },
  {
   "cell_type": "code",
   "execution_count": 71,
   "metadata": {},
   "outputs": [],
   "source": [
    "movie_df.to_csv('movie_genre_perfect_match.csv')"
   ]
  },
  {
   "cell_type": "code",
   "execution_count": 187,
   "metadata": {},
   "outputs": [],
   "source": [
    "movie_after_perfect_match = movie_df.copy()"
   ]
  },
  {
   "cell_type": "markdown",
   "metadata": {},
   "source": [
    "### Fuzzy match"
   ]
  },
  {
   "cell_type": "code",
   "execution_count": 188,
   "metadata": {},
   "outputs": [],
   "source": [
    "# get the index of unmatchedd movies\n",
    "unmatched_index = movie_df[movie_df.imdb_title.isna()].index"
   ]
  },
  {
   "cell_type": "code",
   "execution_count": 201,
   "metadata": {},
   "outputs": [
    {
     "name": "stderr",
     "output_type": "stream",
     "text": [
      "100%|██████████| 67115/67115 [04:02<00:00, 277.22it/s]   \n"
     ]
    }
   ],
   "source": [
    "# i=0\n",
    "for idx in tqdm(unmatched_index):\n",
    "#     if idx <= 223571:\n",
    "#         pass\n",
    "    \n",
    "#     if i >= 50:\n",
    "#         break\n",
    "#     else:\n",
    "    mv = movie_after_perfect_match.loc[idx,'mubi_title']\n",
    "    tmp_year = movie_after_perfect_match.loc[idx,'mubi_release_year']\n",
    "    if tmp_year not in [0,1884,1886]:\n",
    "        tmp_df = movie_df_dict[tmp_year]\n",
    "        k = tmp_df.primaryTitle.dropna().apply(lambda x: Levenshtein.ratio(x.lower(),mv.lower()))\n",
    "        tmp_max_score = k.max()\n",
    "        tmp_idx = k.idxmax()\n",
    "        movie_after_perfect_match.loc[idx,'title_similarity'] = tmp_max_score\n",
    "        movie_after_perfect_match.loc[idx,'imdb_title'] = tmp_df.loc[tmp_idx].primaryTitle\n",
    "        movie_after_perfect_match.loc[idx,'genres'] = tmp_df.loc[tmp_idx].genres\n",
    "    else:\n",
    "        tmp_df = imdb_movie.copy()\n",
    "        k = tmp_df.primaryTitle.dropna().apply(lambda x: Levenshtein.ratio(x.lower(),mv.lower()))\n",
    "        tmp_max_score = k.max()\n",
    "        tmp_idx = k.idxmax()\n",
    "        movie_after_perfect_match.loc[idx,'title_similarity'] = tmp_max_score\n",
    "        movie_after_perfect_match.loc[idx,'imdb_title'] = tmp_df.loc[tmp_idx].primaryTitle\n",
    "        movie_after_perfect_match.loc[idx,'genres'] = tmp_df.loc[tmp_idx].genres\n",
    "\n",
    "#     i+=1"
   ]
  },
  {
   "cell_type": "code",
   "execution_count": 207,
   "metadata": {},
   "outputs": [],
   "source": [
    "movie_after_all_match = movie_after_perfect_match.copy()"
   ]
  },
  {
   "cell_type": "code",
   "execution_count": 223,
   "metadata": {},
   "outputs": [],
   "source": [
    "movie_after_all_match.to_csv('movie_genres_after_all_match.csv')"
   ]
  },
  {
   "cell_type": "code",
   "execution_count": null,
   "metadata": {},
   "outputs": [],
   "source": []
  }
 ],
 "metadata": {
  "kernelspec": {
   "display_name": "Python 3",
   "language": "python",
   "name": "python3"
  },
  "language_info": {
   "codemirror_mode": {
    "name": "ipython",
    "version": 3
   },
   "file_extension": ".py",
   "mimetype": "text/x-python",
   "name": "python",
   "nbconvert_exporter": "python",
   "pygments_lexer": "ipython3",
   "version": "3.6.10"
  },
  "varInspector": {
   "cols": {
    "lenName": 16,
    "lenType": 16,
    "lenVar": 40
   },
   "kernels_config": {
    "python": {
     "delete_cmd_postfix": "",
     "delete_cmd_prefix": "del ",
     "library": "var_list.py",
     "varRefreshCmd": "print(var_dic_list())"
    },
    "r": {
     "delete_cmd_postfix": ") ",
     "delete_cmd_prefix": "rm(",
     "library": "var_list.r",
     "varRefreshCmd": "cat(var_dic_list()) "
    }
   },
   "types_to_exclude": [
    "module",
    "function",
    "builtin_function_or_method",
    "instance",
    "_Feature"
   ],
   "window_display": false
  }
 },
 "nbformat": 4,
 "nbformat_minor": 4
}
